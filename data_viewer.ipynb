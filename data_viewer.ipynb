{
 "cells": [
  {
   "cell_type": "code",
   "execution_count": 2,
   "metadata": {},
   "outputs": [],
   "source": [
    "DATA_PATH = \"WikiSQL/data/\""
   ]
  },
  {
   "cell_type": "code",
   "execution_count": 1,
   "metadata": {},
   "outputs": [],
   "source": [
    "import json\n",
    "import numpy as np\n",
    "import pandas as pd"
   ]
  },
  {
   "cell_type": "code",
   "execution_count": 7,
   "metadata": {},
   "outputs": [],
   "source": [
    "def read_jsonl(jsonl):\n",
    "    for line in open(jsonl, encoding=\"utf8\"):\n",
    "        sample = json.loads(line.rstrip())\n",
    "        yield sample"
   ]
  },
  {
   "cell_type": "code",
   "execution_count": 4,
   "metadata": {},
   "outputs": [
    {
     "data": {
      "text/plain": [
       "(dict_keys(['phase', 'table_id', 'question', 'sql']),\n",
       " dict_keys(['header', 'page_title', 'types', 'id', 'section_title', 'caption', 'rows', 'name']))"
      ]
     },
     "execution_count": 4,
     "metadata": {},
     "output_type": "execute_result"
    }
   ],
   "source": [
    "with open(DATA_PATH + \"dev.jsonl\", 'r') as f_dev:\n",
    "   dev = list(f_dev)\n",
    "\n",
    "with open(DATA_PATH + \"dev.tables.jsonl\", 'r') as f_devtable:\n",
    "   devtable = list(f_devtable)\n",
    "\n",
    "json.loads(dev[0]).keys(), json.loads(devtable[0]).keys()"
   ]
  },
  {
   "cell_type": "code",
   "execution_count": 5,
   "metadata": {},
   "outputs": [
    {
     "data": {
      "text/plain": [
       "['Player',\n",
       " 'No.',\n",
       " 'Nationality',\n",
       " 'Position',\n",
       " 'Years in Toronto',\n",
       " 'School/Club Team']"
      ]
     },
     "execution_count": 5,
     "metadata": {},
     "output_type": "execute_result"
    }
   ],
   "source": [
    "json.loads(devtable[0])['header']"
   ]
  },
  {
   "cell_type": "code",
   "execution_count": 17,
   "metadata": {},
   "outputs": [
    {
     "name": "stdout",
     "output_type": "stream",
     "text": [
      "{'phase': 1, 'table_id': '1-10015132-11', 'question': 'What position does the player who played for butler cc (ks) play?', 'sql': {'sel': 3, 'conds': [[5, 0, 'Butler CC (KS)']], 'agg': 0}}\n",
      "{'phase': 1, 'table_id': '1-10015132-11', 'question': 'How many schools did player number 3 play at?', 'sql': {'sel': 5, 'conds': [[1, 0, '3']], 'agg': 3}}\n",
      "{'phase': 1, 'table_id': '1-10015132-11', 'question': 'What school did player number 21 play for?', 'sql': {'sel': 5, 'conds': [[1, 0, '21']], 'agg': 0}}\n",
      "{'phase': 1, 'table_id': '1-10015132-11', 'question': 'Who is the player that wears number 42?', 'sql': {'sel': 0, 'conds': [[1, 0, '42']], 'agg': 0}}\n",
      "{'phase': 1, 'table_id': '1-10015132-11', 'question': 'What player played guard for toronto in 1996-97?', 'sql': {'sel': 0, 'conds': [[3, 0, 'Guard'], [4, 0, '1996-97']], 'agg': 0}}\n"
     ]
    }
   ],
   "source": [
    "for i in range(5):  \n",
    "   print(json.loads(dev[i]))"
   ]
  },
  {
   "cell_type": "code",
   "execution_count": 27,
   "metadata": {},
   "outputs": [
    {
     "name": "stdout",
     "output_type": "stream",
     "text": [
      "{'header': ['Player', 'No.', 'Nationality', 'Position', 'Years in Toronto', 'School/Club Team'], 'page_title': 'Toronto Raptors all-time roster', 'types': ['text', 'text', 'text', 'text', 'text', 'text'], 'id': '1-10015132-11', 'section_title': 'L', 'caption': 'L', 'rows': [['Antonio Lang', '21', 'United States', 'Guard-Forward', '1999-2000', 'Duke'], ['Voshon Lenard', '2', 'United States', 'Guard', '2002-03', 'Minnesota'], ['Martin Lewis', '32, 44', 'United States', 'Guard-Forward', '1996-97', 'Butler CC (KS)'], ['Brad Lohaus', '33', 'United States', 'Forward-Center', '1996', 'Iowa'], ['Art Long', '42', 'United States', 'Forward-Center', '2002-03', 'Cincinnati'], ['John Long', '25', 'United States', 'Guard', '1996-97', 'Detroit'], ['Kyle Lowry', '3', 'United States', 'Guard', '2012-Present', 'Villanova']], 'name': 'table_10015132_11'}\n",
      "{'header': ['Player', 'No.', 'Nationality', 'Position', 'Years in Toronto', 'School/Club Team'], 'page_title': 'Toronto Raptors all-time roster', 'types': ['text', 'text', 'text', 'text', 'text', 'text'], 'id': '1-10015132-9', 'section_title': 'J', 'caption': 'J', 'rows': [['Jarrett Jack', '1', 'United States', 'Guard', '2009-10', 'Georgia Tech'], ['Jermaine Jackson', '8', 'United States', 'Guard', '2002-03', 'Detroit'], ['Luke Jackson', '6', 'United States', 'Guard-Forward', '2007', 'Oregon'], ['Mark Jackson', '13', 'United States', 'Guard', '2000-01', \"St. John's\"], ['Mike James', '13', 'United States', 'Guard', '2005-06', 'Duquesne'], ['Nathan Jawai', '21', 'Australia', 'Forward-Center', '2009', 'Midland College'], ['Chris Jefferies', '1, 32', 'United States', 'Forward', '2002-03', 'Fresno State'], ['Amir Johnson', '15', 'United States', 'Forward-Center', '2009-present', 'Westchester High School'], ['James Johnson', '0, 2', 'United States', 'Forward', '2011-2012', 'Wake Forest'], ['Linton Johnson', '13', 'United States', 'Forward', '2008', 'Tulane'], ['Trey Johnson', '12', 'United States', 'Guard', '2011', 'Jackson State'], ['Fred Jones', '20', 'United States', 'Guard', '2006-07', 'Oregon'], ['Popeye Jones', '54', 'United States', 'Forward', '1996-98', 'Murray State']], 'name': 'table_10015132_9'}\n",
      "{'header': ['Entered office as Head of State or Government', 'Began time as senior G8 leader', 'Ended time as senior G8 leader', 'Person', 'Office'], 'page_title': 'List of longest-serving G8 leaders', 'types': ['text', 'text', 'text', 'text', 'text'], 'id': '1-10026563-1', 'section_title': 'Chronology of longest serving G8 Leaders', 'caption': 'Chronology of longest serving G8 Leaders', 'rows': [['16 October 1964', '15 November 1975', '5 April 1976', 'Harold Wilson', 'Prime Minister of the United Kingdom'], ['16 May 1974', '5 April 1976', '27 June 1976', 'Helmut Schmidt', 'Chancellor of West Germany'], ['20 April 1968', '27 June 1976', '4 June 1979', 'Pierre Trudeau', 'Prime Minister of Canada'], ['16 May 1974', '4 June 1979', '1 October 1982', 'Helmut Schmidt', 'Chancellor of West Germany'], ['4 May 1979', '1 October 1982', '28 November 1990', 'Margaret Thatcher', 'Prime Minister of the United Kingdom'], ['10 May 1981', '28 November 1990', '17 May 1995', 'François Mitterrand', 'President of France'], ['1 October 1982', '17 May 1995', '27 October 1998', 'Helmut Kohl', 'Chancellor of Germany'], ['10 July 1991', '27 October 1998', '31 December 1999', 'Boris Yeltsin', 'President of Russia'], ['20 January 1993', '31 December 1999', '20 January 2001', 'Bill Clinton', 'President of the United States'], ['4 November 1993', '20 January 2001', '12 December 2003', 'Jean Chrétien', 'Prime Minister of Canada'], ['17 May 1995', '12 December 2003', '16 May 2007', 'Jacques Chirac', 'President of France'], ['2 May 1997', '16 May 2007', '27 June 2007', 'Tony Blair', 'Prime Minister of the United Kingdom'], ['31 December 1999', '27 June 2007', '7 May 2008', 'Vladimir Putin', 'President of Russia'], ['20 January 2001', '7 May 2008', '20 January 2009', 'George W. Bush', 'President of the United States'], ['10 May 1994', '20 January 2009', '16 November 2011', 'Silvio Berlusconi', 'Prime Minister of Italy'], ['22 November 2005', '16 November 2011', '7 May 2012', 'Angela Merkel', 'Chancellor of Germany']], 'name': 'table_10026563_1'}\n",
      "{'id': '1-1008653-1', 'header': ['Country ( exonym )', 'Capital ( exonym )', 'Country ( endonym )', 'Capital ( endonym )', 'Official or native language(s) (alphabet/script)'], 'types': ['text', 'text', 'text', 'text', 'text'], 'rows': [['Afghanistan', 'Kabul', 'Afghanestan افغانستان', 'Kaalu كابل', 'Pashto / Dari ( Arabic script )'], ['Albania', 'Tirana', 'Shqipëria', 'Tiranë', 'Albanian'], ['American Samoa', 'Pago Pago', 'Amerika Sāmoa American Samoa', 'Pago Pago Pago Pago', 'Samoan English'], ['Andorra', 'Andorra la Vella', 'Andorra', 'Andorra la Vella', 'Catalan'], ['Angola', 'Luanda', 'Angola', 'Luanda', 'Portuguese'], ['Anguilla', 'The Valley', 'Anguilla', 'The Valley', 'English'], ['Antigua and Barbuda', \"Saint John's\", 'Antigua and Barbuda', \"St. John's\", 'English'], ['Argentina', 'Buenos Aires', 'Argentina', 'Buenos Aires', 'Spanish'], ['Armenia', 'Yerevan', 'Hayastán Հայաստան', 'Yerevan Երեվան', 'Armenian ( Armenian alphabet )'], ['Aruba', 'Oranjestad', 'Aruba Aruba', 'Oranjestad Oranjestad', 'Dutch Papiamento'], ['Australia', 'Canberra', 'Australia', 'Canberra', 'English / Aboriginal native languages'], ['Austria', 'Vienna', 'Österreich', 'Wien', 'German']], 'name': 'table_1008653_1'}\n",
      "{'id': '1-10088101-1', 'header': ['No. in set', 'No. in series', 'Title', 'Directed by', 'Written by', 'Original air date', 'Production code'], 'types': ['real', 'real', 'text', 'text', 'text', 'text', 'text'], 'rows': [[1, 174, '\" Per Manum \"', 'Kim Manners', 'Chris Carter & Frank Spotnitz', 'February18,2001', '8ABX13'], [2, 175, '\" This is Not Happening \"', 'Kim Manners', 'Chris Carter & Frank Spotnitz', 'February25,2001', '8ABX14'], [3, 176, '\" Deadalive \"', 'Tony Wharmby', 'Chris Carter & Frank Spotnitz', 'April1,2001', '8ABX15'], [4, 177, '\" Three Words \"', 'Tony Wharmby', 'Chris Carter & Frank Spotnitz', 'April8,2001', '8ABX16'], [5, 179, '\" Vienen \"', 'Rod Hardy', 'Steven Maeda', 'April29,2001', '8ABX18'], [6, 181, '\" Essence \"', 'Kim Manners', 'Chris Carter', 'May13,2001', '8ABX20'], [7, 182, '\" Existence \"', 'Kim Manners', 'Chris Carter', 'May20,2001', '8ABX21'], [8, 183, '\" Nothing Important Happened Today \"', 'Kim Manners', 'Chris Carter & Frank Spotnitz', 'November11,2001', '9ABX01'], [9, 184, '\" Nothing Important Happened Today II \"', 'Tony Wharmby', 'Chris Carter & Frank Spotnitz', 'November18,2001', '9ABX02'], [10, 188, '\" Trust No 1 \"', 'Tony Wharmby', 'Chris Carter & Frank Spotnitz', 'January6,2002', '9ABX06'], [11, 191, '\" Provenance \"', 'Kim Manners', 'Chris Carter & Frank Spotnitz', 'March3,2002', '9ABX09'], [12, 192, '\" Providence \"', 'Chris Carter', 'Chris Carter & Frank Spotnitz', 'March10,2002', '9ABX10']], 'name': 'table_10088101_1'}\n"
     ]
    }
   ],
   "source": [
    "for i in range(5):  \n",
    "   print(json.loads(devtable[i]))"
   ]
  },
  {
   "cell_type": "code",
   "execution_count": 11,
   "metadata": {},
   "outputs": [],
   "source": [
    "# table schema\n",
    "def get_schema(tables):\n",
    "    schema, headers, colTypes, naturalMap = {}, {}, {}, {}\n",
    "    for table in tables:\n",
    "        values = [set() for _ in range(len(table[\"header\"]))]\n",
    "        for row in table[\"rows\"]:\n",
    "            for i, value in enumerate(row):\n",
    "                values[i].add(str(value).lower())\n",
    "        columns = {column: values[i] for i, column in enumerate(table[\"header\"])}\n",
    "\n",
    "        trans = {\"text\": \"string\", \"real\": \"real\"}\n",
    "        colTypes[table[\"id\"]] = {col:trans[ty] for ty, col in zip(table[\"types\"], table[\"header\"])}\n",
    "        schema[table[\"id\"]] = columns\n",
    "        naturalMap[table[\"id\"]] = {col: col for col in columns}\n",
    "        headers[table[\"id\"]] = table[\"header\"]\n",
    "        \n",
    "        break\n",
    "\n",
    "    return schema, headers, colTypes, naturalMap"
   ]
  },
  {
   "cell_type": "code",
   "execution_count": 12,
   "metadata": {},
   "outputs": [
    {
     "data": {
      "text/plain": [
       "({'1-10015132-11': {'Player': {'antonio lang',\n",
       "    'art long',\n",
       "    'brad lohaus',\n",
       "    'john long',\n",
       "    'kyle lowry',\n",
       "    'martin lewis',\n",
       "    'voshon lenard'},\n",
       "   'No.': {'2', '21', '25', '3', '32, 44', '33', '42'},\n",
       "   'Nationality': {'united states'},\n",
       "   'Position': {'forward-center', 'guard', 'guard-forward'},\n",
       "   'Years in Toronto': {'1996',\n",
       "    '1996-97',\n",
       "    '1999-2000',\n",
       "    '2002-03',\n",
       "    '2012-present'},\n",
       "   'School/Club Team': {'butler cc (ks)',\n",
       "    'cincinnati',\n",
       "    'detroit',\n",
       "    'duke',\n",
       "    'iowa',\n",
       "    'minnesota',\n",
       "    'villanova'}}},\n",
       " {'1-10015132-11': ['Player',\n",
       "   'No.',\n",
       "   'Nationality',\n",
       "   'Position',\n",
       "   'Years in Toronto',\n",
       "   'School/Club Team']},\n",
       " {'1-10015132-11': {'Player': 'string',\n",
       "   'No.': 'string',\n",
       "   'Nationality': 'string',\n",
       "   'Position': 'string',\n",
       "   'Years in Toronto': 'string',\n",
       "   'School/Club Team': 'string'}},\n",
       " {'1-10015132-11': {'Player': 'Player',\n",
       "   'No.': 'No.',\n",
       "   'Nationality': 'Nationality',\n",
       "   'Position': 'Position',\n",
       "   'Years in Toronto': 'Years in Toronto',\n",
       "   'School/Club Team': 'School/Club Team'}})"
      ]
     },
     "execution_count": 12,
     "metadata": {},
     "output_type": "execute_result"
    }
   ],
   "source": [
    "get_schema(read_jsonl(DATA_PATH + \"dev.tables.jsonl\"))"
   ]
  },
  {
   "cell_type": "code",
   "execution_count": null,
   "metadata": {},
   "outputs": [],
   "source": []
  }
 ],
 "metadata": {
  "kernelspec": {
   "display_name": "cs224env",
   "language": "python",
   "name": "python3"
  },
  "language_info": {
   "codemirror_mode": {
    "name": "ipython",
    "version": 3
   },
   "file_extension": ".py",
   "mimetype": "text/x-python",
   "name": "python",
   "nbconvert_exporter": "python",
   "pygments_lexer": "ipython3",
   "version": "3.10.9"
  },
  "orig_nbformat": 4
 },
 "nbformat": 4,
 "nbformat_minor": 2
}
